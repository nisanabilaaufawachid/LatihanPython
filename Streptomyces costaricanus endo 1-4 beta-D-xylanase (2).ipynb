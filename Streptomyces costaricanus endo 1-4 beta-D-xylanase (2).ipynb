{
 "cells": [
  {
   "cell_type": "code",
   "execution_count": 1,
   "id": "1f6e62c0-a37e-4c31-9fa7-3b6f95cf30c9",
   "metadata": {},
   "outputs": [
    {
     "name": "stdout",
     "output_type": "stream",
     "text": [
      "{'Count': '2275', 'RetMax': '20', 'RetStart': '0', 'IdList': ['636559398', '343201369', '343200727', '1952250722', '2090800189', '1889772406', '1889772405', '1889772404', '1889772403', '1889772402', '1889760721', '1889760713', '1889760558', '1597518069', '1197890680', '1197890679', '1197890678', '1197890677', '1197890676', '1197890675'], 'TranslationSet': [{'From': 'Streptomyces costaricanus', 'To': '\"Streptomyces murinus\"[Organism] OR Streptomyces costaricanus[All Fields]'}], 'TranslationStack': [{'Term': '\"Streptomyces murinus\"[Organism]', 'Field': 'Organism', 'Count': '2274', 'Explode': 'Y'}, {'Term': 'Streptomyces costaricanus[All Fields]', 'Field': 'All Fields', 'Count': '52', 'Explode': 'N'}, 'OR', 'GROUP'], 'QueryTranslation': '\"Streptomyces murinus\"[Organism] OR Streptomyces costaricanus[All Fields]'}\n"
     ]
    }
   ],
   "source": [
    "from Bio import Entrez\n",
    "Entrez.email = \"localuser@localhost.localdomain\" \n",
    "\n",
    "#creating handle\n",
    "handle = Entrez.esearch(db=\"nuccore\", term=\"Streptomyces costaricanus\")\n",
    "record = Entrez.read(handle)\n",
    "print(record)\n",
    "handle.close()"
   ]
  },
  {
   "cell_type": "code",
   "execution_count": 2,
   "id": "ebc33d29-6fab-4a70-89c2-32795c9ef8d6",
   "metadata": {},
   "outputs": [
    {
     "name": "stdout",
     "output_type": "stream",
     "text": [
      "{'Count': '1', 'RetMax': '1', 'RetStart': '0', 'IdList': ['1143286121'], 'TranslationSet': [{'From': 'Streptomyces costaricanus', 'To': '\"Streptomyces murinus\"[Organism] OR Streptomyces costaricanus[All Fields]'}], 'TranslationStack': [{'Term': '\"Streptomyces murinus\"[Organism]', 'Field': 'Organism', 'Count': '2274', 'Explode': 'Y'}, {'Term': 'Streptomyces costaricanus[All Fields]', 'Field': 'All Fields', 'Count': '52', 'Explode': 'N'}, 'OR', 'GROUP', {'Term': 'endo[All Fields]', 'Field': 'All Fields', 'Count': '1236411', 'Explode': 'N'}, 'AND', {'Term': '1-4[All Fields]', 'Field': 'All Fields', 'Count': '1084903', 'Explode': 'N'}, 'AND', {'Term': 'beta-D-xylanase[All Fields]', 'Field': 'All Fields', 'Count': '9', 'Explode': 'N'}, 'AND', 'GROUP'], 'QueryTranslation': '(\"Streptomyces murinus\"[Organism] OR Streptomyces costaricanus[All Fields]) AND endo[All Fields] AND 1-4[All Fields] AND beta-D-xylanase[All Fields]'}\n"
     ]
    }
   ],
   "source": [
    "from Bio import Entrez\n",
    "Entrez.email = \"localuser@localhost.localdomain\" #Mandatory\n",
    "\n",
    "#creating handle\n",
    "handle = Entrez.esearch(db=\"nuccore\", term=\"Streptomyces costaricanus endo 1-4 beta-D-xylanase\")\n",
    "record = Entrez.read(handle)\n",
    "print(record)\n",
    "handle.close()"
   ]
  },
  {
   "cell_type": "code",
   "execution_count": 3,
   "id": "a0f8b7f6-ac65-4269-b9f4-e427f8fbef3a",
   "metadata": {},
   "outputs": [
    {
     "name": "stdout",
     "output_type": "stream",
     "text": [
      "LOCUS       KY563645                1029 bp    DNA     linear   BCT 13-FEB-2017\n",
      "DEFINITION  Streptomyces murinus strain 45I-3 endo 1-4 beta-D-xylanase gene,\n",
      "            complete cds.\n",
      "ACCESSION   KY563645\n",
      "VERSION     KY563645.1\n",
      "KEYWORDS    .\n",
      "SOURCE      Streptomyces murinus\n",
      "  ORGANISM  Streptomyces murinus\n",
      "            Bacteria; Actinobacteria; Streptomycetales; Streptomycetaceae;\n",
      "            Streptomyces.\n",
      "REFERENCE   1  (bases 1 to 1029)\n",
      "  AUTHORS   Sipriyadi,S., Wahyudi,A.T., Suhartono,M.T. and Meryandini,A.\n",
      "  TITLE     Molecular Cloning and Expression of Gene Encoding Endo,\n",
      "            beta-1,4-xylanase (GH11) from Streptomyces costaricanus 45I-3 in\n",
      "            Escherichia coli\n",
      "  JOURNAL   Unpublished\n",
      "REFERENCE   2  (bases 1 to 1029)\n",
      "  AUTHORS   Sipriyadi,S., Wahyudi,A.T., Suhartono,M.T. and Meryandini,A.\n",
      "  TITLE     Direct Submission\n",
      "  JOURNAL   Submitted (02-FEB-2017) Biology, University of Bengkulu, Department\n",
      "            of Biology, Faculty of Mathematics and Natural Sciences, University\n",
      "            of Bengkulu, Kampus UNIB Kandang Limun, Bengkulu, Bengkulu 38229,\n",
      "            Indonesia\n",
      "COMMENT     ##Assembly-Data-START##\n",
      "            Assembly Method       :: MEGA v. 6.0\n",
      "            Assembly Name         :: XynSc11\n",
      "            Sequencing Technology :: Illumina\n",
      "            ##Assembly-Data-END##\n",
      "FEATURES             Location/Qualifiers\n",
      "     source          1..1029\n",
      "                     /organism=\"Streptomyces murinus\"\n",
      "                     /mol_type=\"genomic DNA\"\n",
      "                     /strain=\"45I-3\"\n",
      "                     /db_xref=\"taxon:33900\"\n",
      "     CDS             1..1029\n",
      "                     /EC_number=\"3.2.1.8\"\n",
      "                     /note=\"xylane-degrading enzyme; involved with xylan\n",
      "                     depolymerization\"\n",
      "                     /codon_start=1\n",
      "                     /transl_table=11\n",
      "                     /product=\"endo 1-4 beta-D-xylanase\"\n",
      "                     /protein_id=\"AQM49976.1\"\n",
      "                     /translation=\"MKIRSRRERRPRGPLTSLFRGVCAVVLLAVGALTLPGAGIAGAV\n",
      "                     TVITSNQTGTDNGYYYSFWTDGGGTVSMNLGSAGNYSTNWSNAGNFVAGKGWSNGGRR\n",
      "                     SVTYSGTFNPSGNAYLSLYGWTSNPLVEYYIVDNWGSYRPTGTFKGTVTSDGGTYDIY\n",
      "                     ETTRTNAPSVEGTKTFNQYWSVRQSKRTGGTITTGNHFDAWAGHGMNLGSFNYYMIMA\n",
      "                     TEGYQSSGSSNITVGSSGSGGGGGGTGGGGTGGGGTGGCTATVTAGQSWDDRYNLNVS\n",
      "                     VSGANNWTVTANVPAPEKVLSTWNVAASYPSAQVPTAKSDGSGNNWGLTVQKNGSTTW\n",
      "                     PPFSCTAN\"\n",
      "ORIGIN      \n",
      "        1 atgaagatcc gcagccgaag agaacgccgc ccccggggac ctctcacctc gctcttccga\n",
      "       61 ggtgtctgtg ccgttgttct gctcgccgtc ggggcgctga ccctgcccgg cgccgggatc\n",
      "      121 gccggcgccg tcacggtcat cacctcgaac cagaccggta ccgacaacgg gtactactac\n",
      "      181 tcgttctgga ccgacggcgg tggcaccgtc tccatgaacc tggggtccgc aggcaactac\n",
      "      241 agcaccaact ggagcaacgc cggcaacttc gtggccggca agggctggag caacggcggg\n",
      "      301 cgccgcagcg tgacctactc cggcaccttc aacccgtccg gcaacgcgta tctgtcgctg\n",
      "      361 tacggctgga cctcgaaccc gctggtcgag tactacatcg tcgacaactg gggcagctac\n",
      "      421 cggcccaccg gcaccttcaa gggcacggtc accagtgacg gcgggacgta cgacatctac\n",
      "      481 gagacgaccc ggaccaacgc cccgtcggtg gagggcacca agaccttcaa ccagtactgg\n",
      "      541 agcgtgcggc agtccaagcg gaccggcggc accatcacca ccggcaacca cttcgacgcc\n",
      "      601 tgggccggcc acgggatgaa cctgggcagc ttcaactact acatgatcat ggcgaccgag\n",
      "      661 ggctaccaga gcagcggcag ctccaacatc accgtgggca gctccggttc gggcggcggt\n",
      "      721 ggtggcggca cgggtggcgg cggaaccggc ggcggtggca ccggcggctg cacggcgacc\n",
      "      781 gtgaccgcgg gccagtcctg ggacgaccgg tacaacctga acgtctcggt cagcggggcg\n",
      "      841 aacaactgga cggtgaccgc gaacgtcccg gccccggaga aggtcctgtc gacctggaac\n",
      "      901 gtggccgcga gctatcccag tgcccaggtg ccgaccgcca agtccgacgg cagcggcaac\n",
      "      961 aactggggtc tgaccgtgca gaagaacggc tccaccacct ggccgccgtt cagctgcacg\n",
      "     1021 gccaactga\n",
      "//\n",
      "\n",
      "\n"
     ]
    }
   ],
   "source": [
    "efetch_handle = Entrez.efetch(db=\"nuccore\", id=\"1143286121\", rettype=\"gb\", retmode=\"text\")\n",
    "gbrecord = efetch_handle.read()\n",
    "print(gbrecord)"
   ]
  },
  {
   "cell_type": "code",
   "execution_count": 4,
   "id": "6038f749-5ee6-4fc9-9bb7-1b29829b9243",
   "metadata": {},
   "outputs": [
    {
     "name": "stdout",
     "output_type": "stream",
     "text": [
      "Streptomyces costaricanus endo 1-4-beta-D-xylanase.gbkSaved\n"
     ]
    }
   ],
   "source": [
    "import os # import os module for OS utilities\n",
    "from Bio import Entrez\n",
    "Entrez.email = \"localuser@localhost.localdomain\"\n",
    "\n",
    "#creating EFetch handle\n",
    "filename = \"Streptomyces costaricanus endo 1-4-beta-D-xylanase.gbk\"\n",
    "\n",
    "#creating EFetch handle\n",
    "if not os.path.isfile(filename):\n",
    "    # Downloading file...\n",
    "    efetch_handle = Entrez.efetch(db=\"nuccore\", id=\"1143286121\", rettype=\"gb\", retmode=\"text\")\n",
    "    output_file_handle = open(filename, \"w\")\n",
    "    output_file_handle.write(efetch_handle.read())\n",
    "    output_file_handle.close()\n",
    "    efetch_handle.close()\n",
    "    print((str(filename)) + \"Saved\")\n",
    "else:\n",
    "    print((str(filename)) + \"is existing.File cannot be saved!\")"
   ]
  },
  {
   "cell_type": "code",
   "execution_count": 5,
   "id": "315312c8-28fd-43c6-9e62-16d69154d5b8",
   "metadata": {},
   "outputs": [
    {
     "name": "stdout",
     "output_type": "stream",
     "text": [
      ">KY563645.1 Streptomyces murinus strain 45I-3 endo 1-4 beta-D-xylanase gene, complete cds\n",
      "ATGAAGATCCGCAGCCGAAGAGAACGCCGCCCCCGGGGACCTCTCACCTCGCTCTTCCGAGGTGTCTGTG\n",
      "CCGTTGTTCTGCTCGCCGTCGGGGCGCTGACCCTGCCCGGCGCCGGGATCGCCGGCGCCGTCACGGTCAT\n",
      "CACCTCGAACCAGACCGGTACCGACAACGGGTACTACTACTCGTTCTGGACCGACGGCGGTGGCACCGTC\n",
      "TCCATGAACCTGGGGTCCGCAGGCAACTACAGCACCAACTGGAGCAACGCCGGCAACTTCGTGGCCGGCA\n",
      "AGGGCTGGAGCAACGGCGGGCGCCGCAGCGTGACCTACTCCGGCACCTTCAACCCGTCCGGCAACGCGTA\n",
      "TCTGTCGCTGTACGGCTGGACCTCGAACCCGCTGGTCGAGTACTACATCGTCGACAACTGGGGCAGCTAC\n",
      "CGGCCCACCGGCACCTTCAAGGGCACGGTCACCAGTGACGGCGGGACGTACGACATCTACGAGACGACCC\n",
      "GGACCAACGCCCCGTCGGTGGAGGGCACCAAGACCTTCAACCAGTACTGGAGCGTGCGGCAGTCCAAGCG\n",
      "GACCGGCGGCACCATCACCACCGGCAACCACTTCGACGCCTGGGCCGGCCACGGGATGAACCTGGGCAGC\n",
      "TTCAACTACTACATGATCATGGCGACCGAGGGCTACCAGAGCAGCGGCAGCTCCAACATCACCGTGGGCA\n",
      "GCTCCGGTTCGGGCGGCGGTGGTGGCGGCACGGGTGGCGGCGGAACCGGCGGCGGTGGCACCGGCGGCTG\n",
      "CACGGCGACCGTGACCGCGGGCCAGTCCTGGGACGACCGGTACAACCTGAACGTCTCGGTCAGCGGGGCG\n",
      "AACAACTGGACGGTGACCGCGAACGTCCCGGCCCCGGAGAAGGTCCTGTCGACCTGGAACGTGGCCGCGA\n",
      "GCTATCCCAGTGCCCAGGTGCCGACCGCCAAGTCCGACGGCAGCGGCAACAACTGGGGTCTGACCGTGCA\n",
      "GAAGAACGGCTCCACCACCTGGCCGCCGTTCAGCTGCACGGCCAACTGA\n",
      "\n",
      "\n"
     ]
    }
   ],
   "source": [
    "efetch_handle = Entrez.efetch(db=\"nuccore\", id=\"1143286121\", rettype=\"fasta\", retmode=\"text\")\n",
    "fasta_record = efetch_handle.read()\n",
    "print(fasta_record)\n",
    "efetch_handle.close()"
   ]
  },
  {
   "cell_type": "code",
   "execution_count": 6,
   "id": "cbc53ab2-bbf7-4d70-9afd-aef59afa552d",
   "metadata": {},
   "outputs": [
    {
     "name": "stdout",
     "output_type": "stream",
     "text": [
      "Streptomyces costaricanus endo 1-4-beta-D-xylanase.fasSaved\n"
     ]
    }
   ],
   "source": [
    "import os # import os module for OS utilities\n",
    "from Bio import Entrez\n",
    "Entrez.email = \"localuser@localhost.localdomain\"\n",
    "\n",
    "#creating EFetch handle\n",
    "filename = \"Streptomyces costaricanus endo 1-4-beta-D-xylanase.fas\"\n",
    "\n",
    "#creating EFetch handle\n",
    "if not os.path.isfile(filename):\n",
    "    # Downloading file...\n",
    "    efetch_handle = Entrez.efetch(db=\"nuccore\", id=\"1143286121\", rettype=\"fasta\", retmode=\"text\")\n",
    "    output_file_handle = open(filename, \"w\")\n",
    "    output_file_handle.write(efetch_handle.read())\n",
    "    output_file_handle.close()\n",
    "    efetch_handle.close()\n",
    "    print((str(filename)) + \"Saved\")\n",
    "else:\n",
    "    print((str(filename)) + \"is existing.File cannot be saved!\")"
   ]
  },
  {
   "cell_type": "code",
   "execution_count": 7,
   "id": "eb12aabf-d54b-4597-aa1f-949aa0e55306",
   "metadata": {},
   "outputs": [
    {
     "name": "stdout",
     "output_type": "stream",
     "text": [
      ">endo 1-4-beta-D-xylanase|Streptomyces murinus strain 45I-3 endo 1-4 beta-D-xylanase gene, complete cds\n",
      "ATGAAGATCCGCAGCCGAAGAGAACGCCGCCCCCGGGGACCTCTCACCTCGCTCTTCCGAGGTGTCTGTGCCGTTGTTCTGCTCGCCGTCGGGGCGCTGACCCTGCCCGGCGCCGGGATCGCCGGCGCCGTCACGGTCATCACCTCGAACCAGACCGGTACCGACAACGGGTACTACTACTCGTTCTGGACCGACGGCGGTGGCACCGTCTCCATGAACCTGGGGTCCGCAGGCAACTACAGCACCAACTGGAGCAACGCCGGCAACTTCGTGGCCGGCAAGGGCTGGAGCAACGGCGGGCGCCGCAGCGTGACCTACTCCGGCACCTTCAACCCGTCCGGCAACGCGTATCTGTCGCTGTACGGCTGGACCTCGAACCCGCTGGTCGAGTACTACATCGTCGACAACTGGGGCAGCTACCGGCCCACCGGCACCTTCAAGGGCACGGTCACCAGTGACGGCGGGACGTACGACATCTACGAGACGACCCGGACCAACGCCCCGTCGGTGGAGGGCACCAAGACCTTCAACCAGTACTGGAGCGTGCGGCAGTCCAAGCGGACCGGCGGCACCATCACCACCGGCAACCACTTCGACGCCTGGGCCGGCCACGGGATGAACCTGGGCAGCTTCAACTACTACATGATCATGGCGACCGAGGGCTACCAGAGCAGCGGCAGCTCCAACATCACCGTGGGCAGCTCCGGTTCGGGCGGCGGTGGTGGCGGCACGGGTGGCGGCGGAACCGGCGGCGGTGGCACCGGCGGCTGCACGGCGACCGTGACCGCGGGCCAGTCCTGGGACGACCGGTACAACCTGAACGTCTCGGTCAGCGGGGCGAACAACTGGACGGTGACCGCGAACGTCCCGGCCCCGGAGAAGGTCCTGTCGACCTGGAACGTGGCCGCGAGCTATCCCAGTGCCCAGGTGCCGACCGCCAAGTCCGACGGCAGCGGCAACAACTGGGGTCTGACCGTGCAGAAGAACGGCTCCACCACCTGGCCGCCGTTCAGCTGCACGGCCAACTGA\n"
     ]
    }
   ],
   "source": [
    "import os # import os module for OS utilities\n",
    "from Bio import Entrez, SeqIO\n",
    "Entrez.email = \"localuser@localhost.localdomain\"\n",
    "\n",
    "GoI = \"endo 1-4-beta-D-xylanase\"\n",
    "\n",
    "for genome in SeqIO.parse(\"Streptomyces costaricanus endo 1-4-beta-D-xylanase.gbk\",\"genbank\"):\n",
    "    for gene in genome.features:\n",
    "        if gene.type !=\"CDS\":\n",
    "            continue\n",
    "        if \"gene\" not in gene.qualifiers:\n",
    "            continue\n",
    "        if GoI not in gene.qualifiers[\"gene\"][0]:\n",
    "            continue\n",
    "    gene_seq = gene.extract(genome.seq)\n",
    "\n",
    "GoI_fasta = \">%s|%s\\n%s\" % (GoI, genome.description, gene_seq)\n",
    "print(GoI_fasta)"
   ]
  },
  {
   "cell_type": "code",
   "execution_count": null,
   "id": "4b9574a9-424d-4ac5-ba2a-5d711008cbf7",
   "metadata": {},
   "outputs": [],
   "source": [
    "from Bio import SeqIO\n",
    "GoI = \"endo 1-4 beta-D-xylanase\"\n",
    "for genome in SeqIO.parse(\"Streptomyces costaricanus endo 1-4 beta-xylanase.gbk\",\"genbank\"):\n",
    "    for gene in genome.features:\n",
    "        if gene.type != \"CDS\":\n",
    "            continue\n",
    "        if \"gene\" not in gene.qualifiers:\n",
    "            continue\n",
    "        if GoI not in gene.qualifiers[\"gene\"][0]:\n",
    "            continue\n",
    "gene_seq = gene.extract(genome.seq)\n",
    "GoI_fasta = \">%s|%s\\n%s\" % (GoI, genome.description, gene_seq)\n",
    "with open(\"GoI_fasta.fasta\",\"w\") as f:\n",
    "    f.write(GoI_fasta)"
   ]
  }
 ],
 "metadata": {
  "kernelspec": {
   "display_name": "Python 3 (ipykernel)",
   "language": "python",
   "name": "python3"
  },
  "language_info": {
   "codemirror_mode": {
    "name": "ipython",
    "version": 3
   },
   "file_extension": ".py",
   "mimetype": "text/x-python",
   "name": "python",
   "nbconvert_exporter": "python",
   "pygments_lexer": "ipython3",
   "version": "3.9.7"
  }
 },
 "nbformat": 4,
 "nbformat_minor": 5
}
